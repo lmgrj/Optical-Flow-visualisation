{
  "nbformat": 4,
  "nbformat_minor": 0,
  "metadata": {
    "colab": {
      "name": "optical flow.ipynb",
      "provenance": [],
      "authorship_tag": "ABX9TyOpZkBkcu4OZ+FK7LB4HZ6E",
      "include_colab_link": true
    },
    "kernelspec": {
      "name": "python3",
      "display_name": "Python 3"
    },
    "language_info": {
      "name": "python"
    }
  },
  "cells": [
    {
      "cell_type": "markdown",
      "metadata": {
        "id": "view-in-github",
        "colab_type": "text"
      },
      "source": [
        "<a href=\"https://colab.research.google.com/github/lmgrj/Optical-Flow-visualisation/blob/main/optical_flow.ipynb\" target=\"_parent\"><img src=\"https://colab.research.google.com/assets/colab-badge.svg\" alt=\"Open In Colab\"/></a>"
      ]
    },
    {
      "cell_type": "markdown",
      "source": [
        "# **Farneback optical flow**"
      ],
      "metadata": {
        "id": "28gzydYmS_92"
      }
    },
    {
      "cell_type": "code",
      "execution_count": null,
      "metadata": {
        "id": "9-phSx50OvlR"
      },
      "outputs": [],
      "source": [
        "#lamgarraj Mohamed\n",
        "\n",
        "\n",
        "import cv2\n",
        "import numpy as np\n",
        "from google.colab.patches import cv2_imshow\n",
        "from google.colab import drive\n",
        "drive.mount('/content/drive')\n",
        "\n",
        "def draw_flow(img, flow, step=25):\n",
        "    # print(img.shape)\n",
        "    h, w = img.shape[:2]\n",
        "    y, x = np.mgrid[step/2:h:step, step/2:w:step].reshape(2,-1).astype(int)\n",
        "    fx, fy = flow[y,x].T\n",
        "    lines = np.vstack([x, y, x+fx, y+fy]).T.reshape(-1, 2, 2)\n",
        "    lines = np.int32(lines + 0.5)\n",
        "    # vis = cv2.cvtColor(img, cv2.COLOR_GRAY2BGR)\n",
        "    vis = img\n",
        "    cv2.polylines(vis, lines, 0, (0, 255, 0), 2)\n",
        "    for (x1, y1), (x2, y2) in lines:\n",
        "        cv2.circle(vis, (x1, y1), 2, (0, 0, 255), -1)\n",
        "        # vis = cv2.arrowedLine(vis, (x1,y1), (x2,y2), (0,255,0), 2) \n",
        "    return vis\n",
        "\n",
        "video_path = '/content/output.mp4'\n",
        "cap = cv2.VideoCapture('/content/drive/My Drive/Stage/Camera05.mp4')\n",
        "\n",
        "ret, frame1 = cap.read()\n",
        "width = int(frame1.shape[1] * 0.75)\n",
        "height = int(frame1.shape[0] * 0.75)\n",
        "frame1 = cv2.resize(frame1, (width, height), interpolation = cv2.INTER_AREA)\n",
        "\n",
        "out = cv2.VideoWriter('result.avi',cv2.VideoWriter_fourcc('M','J','P','G'), 10, (width,height))\n",
        "\n",
        "prvs = cv2.cvtColor(frame1,cv2.COLOR_BGR2GRAY)\n",
        "hsv = np.zeros_like(frame1)\n",
        "print('hsv', hsv)\n",
        "hsv[...,1] = 255\n",
        "print('new_hsv', hsv)\n",
        "\n",
        "while(1):\n",
        "    ret, frame2 = cap.read()\n",
        "\n",
        "    if ret == True:\n",
        "        width = int(frame2.shape[1] * 0.75)\n",
        "        height = int(frame2.shape[0] * 0.75)\n",
        "        frame2 = cv2.resize(frame2, (width, height), interpolation = cv2.INTER_AREA)\n",
        "\n",
        "        next = cv2.cvtColor(frame2,cv2.COLOR_BGR2GRAY)\n",
        "        flow = cv2.calcOpticalFlowFarneback(prvs,next, None, 0.5, 3, 15, 3, 5, 1.2, 0)\n",
        "        # print(\"flow\", flow)\n",
        "        \n",
        "        mag, ang = cv2.cartToPolar(flow[...,0], flow[...,1])\n",
        "        hsv[...,0] = ang*180/np.pi/2\n",
        "        hsv[...,2] = cv2.normalize(mag,None,0,255,cv2.NORM_MINMAX)\n",
        "        bgr = cv2.cvtColor(hsv,cv2.COLOR_HSV2BGR)\n",
        "        frame3 = draw_flow(frame2, flow)\n",
        "        nv=bgr*frame3 #***************** here\n",
        "        print(\"************background extraction ******************* \\n \\n\")\n",
        "        cv2_imshow(bgr)\n",
        "        # out.write(bgr)\n",
        "        print(\"************vecteur flow******************* \\n \\n\")\n",
        "        cv2_imshow( frame3)\n",
        "        k = cv2.waitKey(30) & 0xff\n",
        "        if k == 27:\n",
        "            break\n",
        "        prvs = next\n",
        "    \n",
        "    else:\n",
        "        break\n",
        "cap.release()\n",
        "out.release()\n",
        "cv2.destroyAllWindows()"
      ]
    },
    {
      "cell_type": "markdown",
      "source": [
        "# **Lucas-Kanade Optical Flow in OpenCV**\n"
      ],
      "metadata": {
        "id": "1Nw5B7pGTHDn"
      }
    },
    {
      "cell_type": "code",
      "source": [
        "import numpy as np\n",
        "import cv2 as cv\n",
        "import argparse\n",
        "from google.colab.patches import cv2_imshow\n",
        "from google.colab import drive\n",
        "drive.mount('/content/drive')\n",
        "\n",
        "cap = cv.VideoCapture('/content/drive/My Drive/Stage/Camera05.mp4')\n",
        "# params for ShiTomasi corner detection\n",
        "feature_params = dict( maxCorners = 100,\n",
        "                       qualityLevel = 0.3,\n",
        "                       minDistance = 7,\n",
        "                       blockSize = 7 )\n",
        "# Parameters for lucas kanade optical flow\n",
        "lk_params = dict( winSize  = (15, 15),\n",
        "                  maxLevel = 2,\n",
        "                  criteria = (cv.TERM_CRITERIA_EPS | cv.TERM_CRITERIA_COUNT, 10, 0.03))\n",
        "# Create some random colors\n",
        "color = np.random.randint(0, 255, (100, 3))\n",
        "# Take first frame and find corners in it\n",
        "ret, old_frame = cap.read()\n",
        "old_gray = cv.cvtColor(old_frame, cv.COLOR_BGR2GRAY)\n",
        "p0 = cv.goodFeaturesToTrack(old_gray, mask = None, **feature_params)\n",
        "# Create a mask image for drawing purposes\n",
        "mask = np.zeros_like(old_frame)\n",
        "while(1):\n",
        "    ret, frame = cap.read()\n",
        "    if not ret:\n",
        "        print('No frames grabbed!')\n",
        "        break\n",
        "    frame_gray = cv.cvtColor(frame, cv.COLOR_BGR2GRAY)\n",
        "    # calculate optical flow\n",
        "    p1, st, err = cv.calcOpticalFlowPyrLK(old_gray, frame_gray, p0, None, **lk_params)\n",
        "    # Select good points\n",
        "    if p1 is not None:\n",
        "        good_new = p1[st==1]\n",
        "        good_old = p0[st==1]\n",
        "    # draw the tracks\n",
        "    for i, (new, old) in enumerate(zip(good_new, good_old)):\n",
        "        a, b = new.ravel()\n",
        "        c, d = old.ravel()\n",
        "        mask = cv.line(mask, (int(a), int(b)), (int(c), int(d)), color[i].tolist(), 2)\n",
        "        frame = cv.circle(frame, (int(a), int(b)), 5, color[i].tolist(), -1)\n",
        "    img = cv.add(frame, mask)\n",
        "    cv2_imshow( img)\n",
        "    k = cv.waitKey(30) & 0xff\n",
        "    if k == 27:\n",
        "        break\n",
        "    # Now update the previous frame and previous points\n",
        "    old_gray = frame_gray.copy()\n",
        "    p0 = good_new.reshape(-1, 1, 2)\n",
        "cv.destroyAllWindows()"
      ],
      "metadata": {
        "id": "W2n1YePvTHkQ"
      },
      "execution_count": null,
      "outputs": []
    }
  ]
}